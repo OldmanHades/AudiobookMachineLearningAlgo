{
  "nbformat": 4,
  "nbformat_minor": 0,
  "metadata": {
    "colab": {
      "name": "machineLCustomerABooks1.ipynb",
      "provenance": [],
      "collapsed_sections": [],
      "authorship_tag": "ABX9TyOuN6ba4A3SzTaLxvQyhRd1",
      "include_colab_link": true
    },
    "kernelspec": {
      "name": "python3",
      "display_name": "Python 3"
    },
    "language_info": {
      "name": "python"
    }
  },
  "cells": [
    {
      "cell_type": "markdown",
      "metadata": {
        "id": "view-in-github",
        "colab_type": "text"
      },
      "source": [
        "<a href=\"https://colab.research.google.com/github/OldmanHades/AudiobookMachineLearningAlgo/blob/main/machineLCustomerABooks1.ipynb\" target=\"_parent\"><img src=\"https://colab.research.google.com/assets/colab-badge.svg\" alt=\"Open In Colab\"/></a>"
      ]
    },
    {
      "cell_type": "markdown",
      "source": [
        "# **Preprocessing Data for Model**"
      ],
      "metadata": {
        "id": "uhl46u75ptyT"
      }
    },
    {
      "cell_type": "markdown",
      "source": [
        "## Loading Modules"
      ],
      "metadata": {
        "id": "YUa2eFEvp5NM"
      }
    },
    {
      "cell_type": "code",
      "execution_count": null,
      "metadata": {
        "id": "khRTUHcFlYuc"
      },
      "outputs": [],
      "source": [
        "import numpy as np\n",
        "from sklearn.preprocessing import StandardScaler\n",
        "import pickle"
      ]
    },
    {
      "cell_type": "markdown",
      "source": [
        "## Loading our Data"
      ],
      "metadata": {
        "id": "yNVZVdBMp_Vz"
      }
    },
    {
      "cell_type": "code",
      "source": [
        "raw_csv_data = np.loadtxt('Audiobooks_data.csv',delimiter=',')\n",
        "\n",
        "unscaled_inputs_all = raw_csv_data[:,1:-1]\n",
        "\n",
        "targets_all = raw_csv_data[:,-1]"
      ],
      "metadata": {
        "id": "h00AAsNTmElM"
      },
      "execution_count": null,
      "outputs": []
    },
    {
      "cell_type": "markdown",
      "source": [
        "## Balance the Dataset"
      ],
      "metadata": {
        "id": "NPnlM6ziqN9y"
      }
    },
    {
      "cell_type": "code",
      "source": [
        "num_one_targets = int(np.sum(targets_all))\n",
        "\n",
        "zero_targets_counter = 0\n",
        "\n",
        "\n",
        "indices_to_remove = []\n",
        "\n",
        "\n",
        "for i in range(targets_all.shape[0]):\n",
        "    if targets_all[i] == 0:\n",
        "        zero_targets_counter += 1\n",
        "        if zero_targets_counter > num_one_targets:\n",
        "            indices_to_remove.append(i)\n",
        "\n",
        "\n",
        "unscaled_inputs_equal_priors = np.delete(unscaled_inputs_all, indices_to_remove, axis=0)\n",
        "targets_equal_priors = np.delete(targets_all, indices_to_remove, axis=0)"
      ],
      "metadata": {
        "id": "2SH_h7B8n9zn"
      },
      "execution_count": null,
      "outputs": []
    },
    {
      "cell_type": "markdown",
      "source": [
        "## Standardize the inputs"
      ],
      "metadata": {
        "id": "jkiudd_bqVj8"
      }
    },
    {
      "cell_type": "code",
      "source": [
        "scaler_deep_learning = StandardScaler()\n",
        "\n",
        "scaled_inputs = scaler_deep_learning.fit_transform(unscaled_inputs_equal_priors)"
      ],
      "metadata": {
        "id": "qqXET0oAoYem"
      },
      "execution_count": null,
      "outputs": []
    },
    {
      "cell_type": "markdown",
      "source": [
        "## Shuffle the Data"
      ],
      "metadata": {
        "id": "OKasTrPZqc2M"
      }
    },
    {
      "cell_type": "code",
      "source": [
        "shuffled_indices = np.arange(scaled_inputs.shape[0])\n",
        "np.random.shuffle(shuffled_indices)\n",
        "\n",
        "shuffled_inputs = scaled_inputs[shuffled_indices]\n",
        "shuffled_targets = targets_equal_priors[shuffled_indices]"
      ],
      "metadata": {
        "id": "o-oR1dbEocgN"
      },
      "execution_count": null,
      "outputs": []
    },
    {
      "cell_type": "markdown",
      "source": [
        "## Split the dataset into train, validation, and test"
      ],
      "metadata": {
        "id": "MJLlMtxqqmPc"
      }
    },
    {
      "cell_type": "code",
      "source": [
        "samples_count = shuffled_inputs.shape[0]\n",
        "\n",
        "\n",
        "train_samples_count = int(0.8 * samples_count)\n",
        "validation_samples_count = int(0.1 * samples_count)\n",
        "\n",
        "test_samples_count = samples_count - train_samples_count - validation_samples_count\n",
        "\n",
        "\n",
        "train_inputs = shuffled_inputs[:train_samples_count]\n",
        "train_targets = shuffled_targets[:train_samples_count]\n",
        "\n",
        "\n",
        "validation_inputs = shuffled_inputs[train_samples_count:train_samples_count+validation_samples_count]\n",
        "validation_targets = shuffled_targets[train_samples_count:train_samples_count+validation_samples_count]\n",
        "\n",
        "test_inputs = shuffled_inputs[train_samples_count+validation_samples_count:]\n",
        "test_targets = shuffled_targets[train_samples_count+validation_samples_count:]\n",
        "\n",
        "\n",
        "print(np.sum(train_targets), train_samples_count, np.sum(train_targets) / train_samples_count)\n",
        "print(np.sum(validation_targets), validation_samples_count, np.sum(validation_targets) / validation_samples_count)\n",
        "print(np.sum(test_targets), test_samples_count, np.sum(test_targets) / test_samples_count)"
      ],
      "metadata": {
        "colab": {
          "base_uri": "https://localhost:8080/"
        },
        "id": "k4McJqGKolJv",
        "outputId": "f70054ee-a60e-416c-b11e-7785288fcce9"
      },
      "execution_count": null,
      "outputs": [
        {
          "output_type": "stream",
          "name": "stdout",
          "text": [
            "1773.0 3579 0.4953897736797988\n",
            "232.0 447 0.5190156599552572\n",
            "232.0 448 0.5178571428571429\n"
          ]
        }
      ]
    },
    {
      "cell_type": "markdown",
      "source": [
        "## Save the datasets into .npz format"
      ],
      "metadata": {
        "id": "6crqYIFVqrAZ"
      }
    },
    {
      "cell_type": "code",
      "source": [
        "np.savez('Audiobooks_data_train', inputs=train_inputs, targets=train_targets)\n",
        "np.savez('Audiobooks_data_validation', inputs=validation_inputs, targets=validation_targets)\n",
        "np.savez('Audiobooks_data_test', inputs=test_inputs, targets=test_targets)"
      ],
      "metadata": {
        "id": "rxGX2SvWo48F"
      },
      "execution_count": null,
      "outputs": []
    },
    {
      "cell_type": "markdown",
      "source": [
        "## Save the Scaler"
      ],
      "metadata": {
        "id": "WoXK83RWqzY7"
      }
    },
    {
      "cell_type": "code",
      "source": [
        "pickle.dump(scaler_deep_learning, open('scaler_deep_learning.pickle', 'wb'))"
      ],
      "metadata": {
        "id": "P2uJoTdPpODU"
      },
      "execution_count": null,
      "outputs": []
    }
  ]
}